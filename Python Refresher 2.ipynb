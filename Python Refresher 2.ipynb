{
 "cells": [
  {
   "cell_type": "code",
   "execution_count": 1,
   "id": "215ad1a0",
   "metadata": {},
   "outputs": [],
   "source": [
    "def logic(num):\n",
    "    if num%2==0:\n",
    "        return num\n",
    "    else:\n",
    "        return num**2"
   ]
  },
  {
   "cell_type": "code",
   "execution_count": 3,
   "id": "0553fc07",
   "metadata": {},
   "outputs": [
    {
     "data": {
      "text/plain": [
       "50"
      ]
     },
     "execution_count": 3,
     "metadata": {},
     "output_type": "execute_result"
    }
   ],
   "source": [
    "logic(50)"
   ]
  },
  {
   "cell_type": "code",
   "execution_count": 7,
   "id": "2dadf1f2",
   "metadata": {},
   "outputs": [],
   "source": [
    "a = [1,2,3,4,5,6]"
   ]
  },
  {
   "cell_type": "code",
   "execution_count": 9,
   "id": "5fce12f0",
   "metadata": {},
   "outputs": [
    {
     "data": {
      "text/plain": [
       "[1, 2, 9, 4, 25, 6]"
      ]
     },
     "execution_count": 9,
     "metadata": {},
     "output_type": "execute_result"
    }
   ],
   "source": [
    "# if there is if and else both: then 'if condition followed by else condition' written and then looping condition 'for num in a'..\n",
    "\n",
    "[num if num %2==0 else num**2 for num in a]"
   ]
  },
  {
   "cell_type": "code",
   "execution_count": 6,
   "id": "bbb3cb92",
   "metadata": {},
   "outputs": [
    {
     "data": {
      "text/plain": [
       "[2, 9, 4, 25, 6]"
      ]
     },
     "execution_count": 6,
     "metadata": {},
     "output_type": "execute_result"
    }
   ],
   "source": [
    "[logic(i) for i in a]"
   ]
  },
  {
   "cell_type": "code",
   "execution_count": null,
   "id": "562cebab",
   "metadata": {},
   "outputs": [],
   "source": []
  },
  {
   "cell_type": "code",
   "execution_count": null,
   "id": "59f5ad8f",
   "metadata": {},
   "outputs": [],
   "source": [
    "# Q \n",
    "#[1,9,25]"
   ]
  },
  {
   "cell_type": "code",
   "execution_count": 10,
   "id": "5a96a76a",
   "metadata": {},
   "outputs": [
    {
     "ename": "SyntaxError",
     "evalue": "invalid syntax (1232826837.py, line 1)",
     "output_type": "error",
     "traceback": [
      "\u001b[1;36m  Input \u001b[1;32mIn [10]\u001b[1;36m\u001b[0m\n\u001b[1;33m    [num**2 if num %2!=0 for num in a]\u001b[0m\n\u001b[1;37m                         ^\u001b[0m\n\u001b[1;31mSyntaxError\u001b[0m\u001b[1;31m:\u001b[0m invalid syntax\n"
     ]
    }
   ],
   "source": [
    "[num**2 if num %2!=0 for num in a]"
   ]
  },
  {
   "cell_type": "code",
   "execution_count": 14,
   "id": "03d2bc91",
   "metadata": {},
   "outputs": [
    {
     "name": "stdout",
     "output_type": "stream",
     "text": [
      "[1, 9, 25]\n"
     ]
    }
   ],
   "source": [
    "a = [1,2,3,4,5,6]\n",
    "res = []\n",
    "for num in a:\n",
    "    if num%2 != 0:\n",
    "        res.append(num**2)\n",
    "print(res)"
   ]
  },
  {
   "cell_type": "code",
   "execution_count": null,
   "id": "12542ec6",
   "metadata": {},
   "outputs": [],
   "source": []
  },
  {
   "cell_type": "code",
   "execution_count": 15,
   "id": "ee600bfd",
   "metadata": {},
   "outputs": [
    {
     "data": {
      "text/plain": [
       "[1, 9, 25]"
      ]
     },
     "execution_count": 15,
     "metadata": {},
     "output_type": "execute_result"
    }
   ],
   "source": [
    "# if there is only if: then 'if condition' is written after looping condition'for num in a'.\n",
    "\n",
    "\n",
    "[num**2 for num in a if num %2!=0]"
   ]
  },
  {
   "cell_type": "code",
   "execution_count": null,
   "id": "5a206c91",
   "metadata": {},
   "outputs": [],
   "source": []
  },
  {
   "cell_type": "code",
   "execution_count": null,
   "id": "d437bab2",
   "metadata": {},
   "outputs": [],
   "source": []
  },
  {
   "cell_type": "code",
   "execution_count": null,
   "id": "f0b36511",
   "metadata": {},
   "outputs": [],
   "source": [
    "#Q"
   ]
  },
  {
   "cell_type": "code",
   "execution_count": 19,
   "id": "8a3af29b",
   "metadata": {},
   "outputs": [
    {
     "data": {
      "text/plain": [
       "[[0], [0, 1], [0, 1, 2], [0, 1, 2, 3], [0, 1, 2, 3, 4]]"
      ]
     },
     "execution_count": 19,
     "metadata": {},
     "output_type": "execute_result"
    }
   ],
   "source": [
    "a = [1,2,3,4,5]\n",
    "\n",
    "[[x for x in range(i)] for i in a]"
   ]
  },
  {
   "cell_type": "code",
   "execution_count": null,
   "id": "1c9bfe84",
   "metadata": {},
   "outputs": [],
   "source": []
  },
  {
   "cell_type": "code",
   "execution_count": null,
   "id": "13328d40",
   "metadata": {},
   "outputs": [],
   "source": [
    "#Q"
   ]
  },
  {
   "cell_type": "code",
   "execution_count": 22,
   "id": "bc0095e1",
   "metadata": {},
   "outputs": [
    {
     "name": "stdout",
     "output_type": "stream",
     "text": [
      "0 1 even index\n",
      "1 2 odd index\n",
      "2 3 even index\n",
      "3 4 odd index\n",
      "4 5 even index\n"
     ]
    }
   ],
   "source": [
    "for index,element in enumerate([1,2,3,4,5]):\n",
    "    if index %2 == 0:\n",
    "        print(index,element,'even index')\n",
    "    else:\n",
    "        print(index,element,'odd index')"
   ]
  },
  {
   "cell_type": "code",
   "execution_count": null,
   "id": "9d0deb3d",
   "metadata": {},
   "outputs": [],
   "source": []
  },
  {
   "cell_type": "code",
   "execution_count": 23,
   "id": "dc6af541",
   "metadata": {},
   "outputs": [
    {
     "data": {
      "text/plain": [
       "12"
      ]
     },
     "execution_count": 23,
     "metadata": {},
     "output_type": "execute_result"
    }
   ],
   "source": [
    "60%48"
   ]
  },
  {
   "cell_type": "code",
   "execution_count": null,
   "id": "5544948f",
   "metadata": {},
   "outputs": [],
   "source": []
  },
  {
   "cell_type": "markdown",
   "id": "7d7d4c07",
   "metadata": {},
   "source": [
    "### ASSIGNMENT "
   ]
  },
  {
   "cell_type": "code",
   "execution_count": null,
   "id": "6f4bbfa5",
   "metadata": {},
   "outputs": [],
   "source": [
    "# Q1"
   ]
  },
  {
   "cell_type": "code",
   "execution_count": 33,
   "id": "678f3969",
   "metadata": {},
   "outputs": [
    {
     "name": "stdout",
     "output_type": "stream",
     "text": [
      "9\n"
     ]
    }
   ],
   "source": [
    "lis = [(0, 2), (1, 3), (2, 4)]\n",
    "result = sum (n for _, n in lis)\n",
    "print(result)"
   ]
  },
  {
   "cell_type": "code",
   "execution_count": 32,
   "id": "36863f46",
   "metadata": {},
   "outputs": [
    {
     "name": "stdout",
     "output_type": "stream",
     "text": [
      "2\n",
      "4\n",
      "6\n"
     ]
    }
   ],
   "source": [
    "lis = [(0, 2), (1, 3), (2, 4)]\n",
    "for n in lis:\n",
    "    print(sum(n))"
   ]
  },
  {
   "cell_type": "code",
   "execution_count": null,
   "id": "ae47b368",
   "metadata": {},
   "outputs": [],
   "source": []
  },
  {
   "cell_type": "code",
   "execution_count": null,
   "id": "b31fc729",
   "metadata": {},
   "outputs": [],
   "source": [
    "# Q2"
   ]
  },
  {
   "cell_type": "code",
   "execution_count": 35,
   "id": "666ac750",
   "metadata": {},
   "outputs": [],
   "source": [
    "dict = {1:\"Apple\" , 2: \"Orange\", 3: \"Banana\"}"
   ]
  },
  {
   "cell_type": "code",
   "execution_count": 36,
   "id": "1c666172",
   "metadata": {},
   "outputs": [],
   "source": [
    "dict[1] = 'strawberry'"
   ]
  },
  {
   "cell_type": "code",
   "execution_count": 37,
   "id": "03414fbb",
   "metadata": {},
   "outputs": [
    {
     "data": {
      "text/plain": [
       "{1: 'strawberry', 2: 'Orange', 3: 'Banana'}"
      ]
     },
     "execution_count": 37,
     "metadata": {},
     "output_type": "execute_result"
    }
   ],
   "source": [
    "dict"
   ]
  },
  {
   "cell_type": "code",
   "execution_count": null,
   "id": "a45f80c5",
   "metadata": {},
   "outputs": [],
   "source": []
  },
  {
   "cell_type": "code",
   "execution_count": null,
   "id": "8e9c653f",
   "metadata": {},
   "outputs": [],
   "source": []
  },
  {
   "cell_type": "code",
   "execution_count": 40,
   "id": "d28ef8c8",
   "metadata": {},
   "outputs": [],
   "source": [
    "s = '    Hello  World      From DigitalOcean    Hi There     '"
   ]
  },
  {
   "cell_type": "code",
   "execution_count": 41,
   "id": "edb09063",
   "metadata": {},
   "outputs": [
    {
     "data": {
      "text/plain": [
       "'    Hello  World      From DigitalOcean    Hi There     '"
      ]
     },
     "execution_count": 41,
     "metadata": {},
     "output_type": "execute_result"
    }
   ],
   "source": [
    "s"
   ]
  },
  {
   "cell_type": "code",
   "execution_count": 57,
   "id": "9dfdc5fa",
   "metadata": {},
   "outputs": [
    {
     "data": {
      "text/plain": [
       "['    Hello  World', ' From DigitalOcean    Hi There', '']"
      ]
     },
     "execution_count": 57,
     "metadata": {},
     "output_type": "execute_result"
    }
   ],
   "source": [
    "s.split('     ')"
   ]
  },
  {
   "cell_type": "code",
   "execution_count": 63,
   "id": "a26785ec",
   "metadata": {},
   "outputs": [
    {
     "ename": "NameError",
     "evalue": "name 'join' is not defined",
     "output_type": "error",
     "traceback": [
      "\u001b[1;31m---------------------------------------------------------------------------\u001b[0m",
      "\u001b[1;31mNameError\u001b[0m                                 Traceback (most recent call last)",
      "Input \u001b[1;32mIn [63]\u001b[0m, in \u001b[0;36m<cell line: 1>\u001b[1;34m()\u001b[0m\n\u001b[1;32m----> 1\u001b[0m \u001b[43mjoin\u001b[49m(\u001b[38;5;124m'\u001b[39m\u001b[38;5;124m,\u001b[39m\u001b[38;5;124m'\u001b[39m)\u001b[38;5;241m.\u001b[39ms\u001b[38;5;241m.\u001b[39msplit()\n",
      "\u001b[1;31mNameError\u001b[0m: name 'join' is not defined"
     ]
    }
   ],
   "source": [
    "s.split().join(',')"
   ]
  },
  {
   "cell_type": "code",
   "execution_count": 69,
   "id": "74aaf0ce",
   "metadata": {},
   "outputs": [
    {
     "data": {
      "text/plain": [
       "['There', 'Hi', 'DigitalOcean', 'From', 'World', 'Hello']"
      ]
     },
     "execution_count": 69,
     "metadata": {},
     "output_type": "execute_result"
    }
   ],
   "source": [
    "s.split()[::-1]"
   ]
  },
  {
   "cell_type": "code",
   "execution_count": 70,
   "id": "224bcfda",
   "metadata": {},
   "outputs": [
    {
     "data": {
      "text/plain": [
       "'There Hi DigitalOcean From World Hello'"
      ]
     },
     "execution_count": 70,
     "metadata": {},
     "output_type": "execute_result"
    }
   ],
   "source": [
    "' '.join(s.split()[::-1])"
   ]
  },
  {
   "cell_type": "code",
   "execution_count": 67,
   "id": "183d6a21",
   "metadata": {},
   "outputs": [
    {
     "data": {
      "text/plain": [
       "'Hello World From DigitalOcean Hi There'"
      ]
     },
     "execution_count": 67,
     "metadata": {},
     "output_type": "execute_result"
    }
   ],
   "source": [
    "' '.join(s.split())"
   ]
  },
  {
   "cell_type": "code",
   "execution_count": null,
   "id": "a55285f0",
   "metadata": {},
   "outputs": [],
   "source": []
  },
  {
   "cell_type": "code",
   "execution_count": null,
   "id": "58af1785",
   "metadata": {},
   "outputs": [],
   "source": []
  },
  {
   "cell_type": "code",
   "execution_count": 71,
   "id": "18072249",
   "metadata": {},
   "outputs": [],
   "source": [
    "# Q4"
   ]
  },
  {
   "cell_type": "code",
   "execution_count": 72,
   "id": "45e0b788",
   "metadata": {},
   "outputs": [],
   "source": [
    "a = 'Hii Hello Helo Hey'"
   ]
  },
  {
   "cell_type": "code",
   "execution_count": 96,
   "id": "ec76a633",
   "metadata": {},
   "outputs": [],
   "source": [
    "def filters(a):\n",
    "    count = 0\n",
    "    aa = a.lower()\n",
    "    aa = aa.split()\n",
    "    for i in aa:\n",
    "        if (len(i)>3) & (len(i) == len(''.join(set(i)))):\n",
    "            count += 1\n",
    "    return count        "
   ]
  },
  {
   "cell_type": "code",
   "execution_count": 98,
   "id": "881b644a",
   "metadata": {},
   "outputs": [
    {
     "data": {
      "text/plain": [
       "1"
      ]
     },
     "execution_count": 98,
     "metadata": {},
     "output_type": "execute_result"
    }
   ],
   "source": [
    "filters('Hii Hello Helo Hey')"
   ]
  },
  {
   "cell_type": "code",
   "execution_count": 92,
   "id": "940a6af4",
   "metadata": {},
   "outputs": [
    {
     "data": {
      "text/plain": [
       "['Hii', 'Hello', 'Helo', 'Hey']"
      ]
     },
     "execution_count": 92,
     "metadata": {},
     "output_type": "execute_result"
    }
   ],
   "source": [
    "'Hii Hello Helo Hey'.split()"
   ]
  },
  {
   "cell_type": "code",
   "execution_count": 74,
   "id": "d9bdc2ee",
   "metadata": {},
   "outputs": [
    {
     "data": {
      "text/plain": [
       "2"
      ]
     },
     "execution_count": 74,
     "metadata": {},
     "output_type": "execute_result"
    }
   ],
   "source": [
    "len('sf')"
   ]
  },
  {
   "cell_type": "code",
   "execution_count": 93,
   "id": "aebf5431",
   "metadata": {},
   "outputs": [
    {
     "data": {
      "text/plain": [
       "{'H', 'i'}"
      ]
     },
     "execution_count": 93,
     "metadata": {},
     "output_type": "execute_result"
    }
   ],
   "source": [
    "set('Hii')"
   ]
  },
  {
   "cell_type": "code",
   "execution_count": 95,
   "id": "dceb5c59",
   "metadata": {},
   "outputs": [
    {
     "data": {
      "text/plain": [
       "'iH'"
      ]
     },
     "execution_count": 95,
     "metadata": {},
     "output_type": "execute_result"
    }
   ],
   "source": [
    "''.join(set('Hi'))"
   ]
  },
  {
   "cell_type": "code",
   "execution_count": 83,
   "id": "ed767342",
   "metadata": {},
   "outputs": [
    {
     "data": {
      "text/plain": [
       "'agf'"
      ]
     },
     "execution_count": 83,
     "metadata": {},
     "output_type": "execute_result"
    }
   ],
   "source": [
    "'Agf'.lower()"
   ]
  },
  {
   "cell_type": "code",
   "execution_count": 89,
   "id": "27ed435b",
   "metadata": {},
   "outputs": [
    {
     "ename": "TypeError",
     "evalue": "'int' object is not iterable",
     "output_type": "error",
     "traceback": [
      "\u001b[1;31m---------------------------------------------------------------------------\u001b[0m",
      "\u001b[1;31mTypeError\u001b[0m                                 Traceback (most recent call last)",
      "Input \u001b[1;32mIn [89]\u001b[0m, in \u001b[0;36m<cell line: 1>\u001b[1;34m()\u001b[0m\n\u001b[1;32m----> 1\u001b[0m (\u001b[38;5;124m'\u001b[39m\u001b[38;5;124masdf\u001b[39m\u001b[38;5;124m'\u001b[39m \u001b[38;5;241m==\u001b[39m \u001b[38;5;124m'\u001b[39m\u001b[38;5;124m'\u001b[39m\u001b[38;5;241m.\u001b[39mjoin(\u001b[38;5;28;43mset\u001b[39;49m\u001b[43m(\u001b[49m\u001b[43mi\u001b[49m\u001b[43m)\u001b[49m))\n",
      "\u001b[1;31mTypeError\u001b[0m: 'int' object is not iterable"
     ]
    }
   ],
   "source": [
    "('asdf' == ''.join(set(i)))"
   ]
  },
  {
   "cell_type": "code",
   "execution_count": null,
   "id": "e6decb4c",
   "metadata": {},
   "outputs": [],
   "source": []
  },
  {
   "cell_type": "code",
   "execution_count": null,
   "id": "86e18ef2",
   "metadata": {},
   "outputs": [],
   "source": [
    "# Q5"
   ]
  },
  {
   "cell_type": "code",
   "execution_count": 99,
   "id": "c22d28b3",
   "metadata": {},
   "outputs": [],
   "source": [
    "a = [1, 3, 2, 1, 4, 1, 3]"
   ]
  },
  {
   "cell_type": "code",
   "execution_count": 101,
   "id": "28af2e90",
   "metadata": {},
   "outputs": [
    {
     "ename": "TypeError",
     "evalue": "object of type 'int' has no len()",
     "output_type": "error",
     "traceback": [
      "\u001b[1;31m---------------------------------------------------------------------------\u001b[0m",
      "\u001b[1;31mTypeError\u001b[0m                                 Traceback (most recent call last)",
      "Input \u001b[1;32mIn [101]\u001b[0m, in \u001b[0;36m<cell line: 1>\u001b[1;34m()\u001b[0m\n\u001b[0;32m      1\u001b[0m \u001b[38;5;28;01mfor\u001b[39;00m i \u001b[38;5;129;01min\u001b[39;00m a:\n\u001b[1;32m----> 2\u001b[0m     \u001b[38;5;28mprint\u001b[39m(\u001b[38;5;28;43mlen\u001b[39;49m\u001b[43m(\u001b[49m\u001b[43mi\u001b[49m\u001b[43m)\u001b[49m)\n",
      "\u001b[1;31mTypeError\u001b[0m: object of type 'int' has no len()"
     ]
    }
   ],
   "source": [
    "for i in a:\n",
    "    print(len(i))"
   ]
  },
  {
   "cell_type": "code",
   "execution_count": 106,
   "id": "5c38e355",
   "metadata": {},
   "outputs": [
    {
     "data": {
      "text/plain": [
       "3"
      ]
     },
     "execution_count": 106,
     "metadata": {},
     "output_type": "execute_result"
    }
   ],
   "source": [
    "a.count(1)"
   ]
  },
  {
   "cell_type": "code",
   "execution_count": 108,
   "id": "9114f3d9",
   "metadata": {},
   "outputs": [
    {
     "ename": "TypeError",
     "evalue": "cannot unpack non-iterable builtin_function_or_method object",
     "output_type": "error",
     "traceback": [
      "\u001b[1;31m---------------------------------------------------------------------------\u001b[0m",
      "\u001b[1;31mTypeError\u001b[0m                                 Traceback (most recent call last)",
      "Input \u001b[1;32mIn [108]\u001b[0m, in \u001b[0;36m<cell line: 1>\u001b[1;34m()\u001b[0m\n\u001b[1;32m----> 1\u001b[0m a,key \u001b[38;5;241m=\u001b[39m a\u001b[38;5;241m.\u001b[39mcount\n",
      "\u001b[1;31mTypeError\u001b[0m: cannot unpack non-iterable builtin_function_or_method object"
     ]
    }
   ],
   "source": [
    "a,key = a.count"
   ]
  },
  {
   "cell_type": "code",
   "execution_count": null,
   "id": "3d4bb0ae",
   "metadata": {},
   "outputs": [],
   "source": [
    "'Hii' 'Hello' 'Hii'"
   ]
  },
  {
   "cell_type": "code",
   "execution_count": 142,
   "id": "10d7a236",
   "metadata": {},
   "outputs": [],
   "source": [
    "def most_frequent(arr):\n",
    "    # YOUR CODE GOES HERE   \n",
    "   \n",
    "    return max(arr, key=arr.count)"
   ]
  },
  {
   "cell_type": "code",
   "execution_count": 143,
   "id": "57d88d24",
   "metadata": {},
   "outputs": [
    {
     "data": {
      "text/plain": [
       "'Hii'"
      ]
     },
     "execution_count": 143,
     "metadata": {},
     "output_type": "execute_result"
    }
   ],
   "source": [
    "most_frequent(['Hii', 'Hello', 'Hii'])"
   ]
  },
  {
   "cell_type": "code",
   "execution_count": null,
   "id": "1f9d9934",
   "metadata": {},
   "outputs": [],
   "source": []
  },
  {
   "cell_type": "code",
   "execution_count": 129,
   "id": "bc72825a",
   "metadata": {},
   "outputs": [
    {
     "data": {
      "text/plain": [
       "{'Hello', 'Hii'}"
      ]
     },
     "execution_count": 129,
     "metadata": {},
     "output_type": "execute_result"
    }
   ],
   "source": [
    "set(['Hii', 'Hello', 'Hii'])"
   ]
  },
  {
   "cell_type": "code",
   "execution_count": 126,
   "id": "a97ce7d0",
   "metadata": {},
   "outputs": [],
   "source": [
    "def most_frequent(arr):\n",
    "    ans = None\n",
    "    count = 0\n",
    "    # YOUR CODE GOES HERE\n",
    "    set_arr = set(arr)\n",
    "    for i in set_arr:\n",
    "        temp_ans = arr.count(i)\n",
    "        if count < temp_ans:\n",
    "            count = temp_ans\n",
    "            ans = i\n",
    "    return ans"
   ]
  },
  {
   "cell_type": "code",
   "execution_count": 128,
   "id": "2b99446c",
   "metadata": {},
   "outputs": [
    {
     "data": {
      "text/plain": [
       "'Hii'"
      ]
     },
     "execution_count": 128,
     "metadata": {},
     "output_type": "execute_result"
    }
   ],
   "source": [
    "most_frequent(['Hii' ,'Hello', 'Hii'])"
   ]
  },
  {
   "cell_type": "code",
   "execution_count": null,
   "id": "56d67476",
   "metadata": {},
   "outputs": [],
   "source": []
  },
  {
   "cell_type": "code",
   "execution_count": 166,
   "id": "05fa3757",
   "metadata": {},
   "outputs": [],
   "source": [
    "def most_frequent(arr):\n",
    "    ans = None\n",
    "    \n",
    "    dict={}\n",
    "    for i in set(arr):\n",
    "        dict.update({i:arr.count(i)})\n",
    "    # print(dict)\n",
    "    ans=max(dict,key=dict.get)\n",
    "    # print(max(dict,key=dict.get))\n",
    "    print(dict)\n",
    "    return ans"
   ]
  },
  {
   "cell_type": "code",
   "execution_count": 167,
   "id": "646d783e",
   "metadata": {},
   "outputs": [
    {
     "name": "stdout",
     "output_type": "stream",
     "text": [
      "{'Hello': 1, 'Hii': 2}\n"
     ]
    },
    {
     "data": {
      "text/plain": [
       "'Hii'"
      ]
     },
     "execution_count": 167,
     "metadata": {},
     "output_type": "execute_result"
    }
   ],
   "source": [
    "most_frequent(['Hii' ,'Hello', 'Hii'])"
   ]
  },
  {
   "cell_type": "code",
   "execution_count": 157,
   "id": "8c0f6a31",
   "metadata": {},
   "outputs": [
    {
     "data": {
      "text/plain": [
       "3"
      ]
     },
     "execution_count": 157,
     "metadata": {},
     "output_type": "execute_result"
    }
   ],
   "source": [
    "max((2,3))"
   ]
  },
  {
   "cell_type": "code",
   "execution_count": 130,
   "id": "383d2611",
   "metadata": {},
   "outputs": [
    {
     "data": {
      "text/plain": [
       "{'bye', 'hello', 'hii'}"
      ]
     },
     "execution_count": 130,
     "metadata": {},
     "output_type": "execute_result"
    }
   ],
   "source": [
    "set(['hii','hello','bye','hii'])"
   ]
  },
  {
   "cell_type": "code",
   "execution_count": null,
   "id": "e4f41bb1",
   "metadata": {},
   "outputs": [],
   "source": []
  },
  {
   "cell_type": "code",
   "execution_count": 133,
   "id": "2dbb13c5",
   "metadata": {},
   "outputs": [],
   "source": [
    "dic = {}"
   ]
  },
  {
   "cell_type": "code",
   "execution_count": 135,
   "id": "4d24a468",
   "metadata": {},
   "outputs": [],
   "source": [
    "dic.update({'av':2})"
   ]
  },
  {
   "cell_type": "code",
   "execution_count": 137,
   "id": "fb2959db",
   "metadata": {},
   "outputs": [],
   "source": [
    "dic.update({'ac':12})\n",
    "dic.update({'as':22})"
   ]
  },
  {
   "cell_type": "code",
   "execution_count": 138,
   "id": "42c2e817",
   "metadata": {},
   "outputs": [
    {
     "data": {
      "text/plain": [
       "{'av': 2, 'ac': 12, 'as': 22}"
      ]
     },
     "execution_count": 138,
     "metadata": {},
     "output_type": "execute_result"
    }
   ],
   "source": [
    "dic"
   ]
  },
  {
   "cell_type": "code",
   "execution_count": 141,
   "id": "a248ed14",
   "metadata": {},
   "outputs": [
    {
     "data": {
      "text/plain": [
       "12"
      ]
     },
     "execution_count": 141,
     "metadata": {},
     "output_type": "execute_result"
    }
   ],
   "source": [
    "dic.get('ac')"
   ]
  },
  {
   "cell_type": "code",
   "execution_count": 150,
   "id": "eb052cf6",
   "metadata": {},
   "outputs": [
    {
     "name": "stdout",
     "output_type": "stream",
     "text": [
      "as\n"
     ]
    }
   ],
   "source": [
    "print(max(dic,key=dic.get))"
   ]
  },
  {
   "cell_type": "code",
   "execution_count": 151,
   "id": "b06a05e3",
   "metadata": {},
   "outputs": [
    {
     "name": "stdout",
     "output_type": "stream",
     "text": [
      "2\n",
      "12\n",
      "22\n"
     ]
    }
   ],
   "source": [
    "for i in dic:\n",
    "    print(dic.get(i))"
   ]
  },
  {
   "cell_type": "code",
   "execution_count": 171,
   "id": "61008091",
   "metadata": {},
   "outputs": [
    {
     "data": {
      "text/plain": [
       "'as'"
      ]
     },
     "execution_count": 171,
     "metadata": {},
     "output_type": "execute_result"
    }
   ],
   "source": [
    "max(dic,key=dic.get)"
   ]
  },
  {
   "cell_type": "code",
   "execution_count": null,
   "id": "39ff6811",
   "metadata": {},
   "outputs": [],
   "source": []
  },
  {
   "cell_type": "markdown",
   "id": "b839da6c",
   "metadata": {},
   "source": [
    "### ADDITIONAL PROBLEM"
   ]
  },
  {
   "cell_type": "code",
   "execution_count": null,
   "id": "e9849de4",
   "metadata": {},
   "outputs": [],
   "source": [
    "# Q1"
   ]
  },
  {
   "cell_type": "code",
   "execution_count": 172,
   "id": "a8cd8f0f",
   "metadata": {},
   "outputs": [],
   "source": [
    "arr = [(1,2),(2,3),(2,3),(1,2),(5,6)]"
   ]
  },
  {
   "cell_type": "code",
   "execution_count": 174,
   "id": "d51fc77d",
   "metadata": {},
   "outputs": [
    {
     "name": "stdout",
     "output_type": "stream",
     "text": [
      "(1, 2)\n",
      "(2, 3)\n",
      "(2, 3)\n",
      "(1, 2)\n",
      "(5, 6)\n"
     ]
    }
   ],
   "source": [
    "for i in arr:\n",
    "    print(tuple(i))"
   ]
  },
  {
   "cell_type": "code",
   "execution_count": 183,
   "id": "2322e069",
   "metadata": {},
   "outputs": [
    {
     "data": {
      "text/plain": [
       "[{(1, 2), (2, 3), (5, 6)}]"
      ]
     },
     "execution_count": 183,
     "metadata": {},
     "output_type": "execute_result"
    }
   ],
   "source": [
    "[set([tuple(i) for i in arr ])]\n"
   ]
  },
  {
   "cell_type": "code",
   "execution_count": 187,
   "id": "7f535285",
   "metadata": {},
   "outputs": [
    {
     "data": {
      "text/plain": [
       "[{(1, 2), (2, 3), (5, 6)}]"
      ]
     },
     "execution_count": 187,
     "metadata": {},
     "output_type": "execute_result"
    }
   ],
   "source": [
    "[set (tuple(i) for i in arr )]"
   ]
  },
  {
   "cell_type": "code",
   "execution_count": null,
   "id": "b88032fb",
   "metadata": {},
   "outputs": [],
   "source": []
  },
  {
   "cell_type": "code",
   "execution_count": 179,
   "id": "b5900a89",
   "metadata": {},
   "outputs": [
    {
     "data": {
      "text/plain": [
       "[(2, 3), (1, 2), (5, 6)]"
      ]
     },
     "execution_count": 179,
     "metadata": {},
     "output_type": "execute_result"
    }
   ],
   "source": [
    "[ item for item in set (tuple(i) for i in arr )]"
   ]
  },
  {
   "cell_type": "code",
   "execution_count": null,
   "id": "99a716b6",
   "metadata": {},
   "outputs": [],
   "source": []
  },
  {
   "cell_type": "code",
   "execution_count": 185,
   "id": "4a5cd9eb",
   "metadata": {},
   "outputs": [],
   "source": [
    "arrr = [{(1, 2), (2, 3), (5, 6)}]"
   ]
  },
  {
   "cell_type": "code",
   "execution_count": 186,
   "id": "e80aeb3c",
   "metadata": {},
   "outputs": [
    {
     "data": {
      "text/plain": [
       "[{(1, 2), (2, 3), (5, 6)}]"
      ]
     },
     "execution_count": 186,
     "metadata": {},
     "output_type": "execute_result"
    }
   ],
   "source": [
    "[a for a in arrr]"
   ]
  },
  {
   "cell_type": "code",
   "execution_count": 189,
   "id": "9cf64977",
   "metadata": {},
   "outputs": [
    {
     "data": {
      "text/plain": [
       "[(1, 2), (2, 3), (2, 3), (1, 2), (5, 6)]"
      ]
     },
     "execution_count": 189,
     "metadata": {},
     "output_type": "execute_result"
    }
   ],
   "source": [
    "arr"
   ]
  },
  {
   "cell_type": "code",
   "execution_count": 188,
   "id": "d34ba6ca",
   "metadata": {},
   "outputs": [
    {
     "data": {
      "text/plain": [
       "[(2, 3), (1, 2), (5, 6)]"
      ]
     },
     "execution_count": 188,
     "metadata": {},
     "output_type": "execute_result"
    }
   ],
   "source": [
    "list (set ( [ i for i in arr ]))"
   ]
  },
  {
   "cell_type": "code",
   "execution_count": 195,
   "id": "e4436d29",
   "metadata": {},
   "outputs": [
    {
     "data": {
      "text/plain": [
       "[(2, 3), (1, 2), (5, 6)]"
      ]
     },
     "execution_count": 195,
     "metadata": {},
     "output_type": "execute_result"
    }
   ],
   "source": [
    "list(set([ i for i in arr ]))"
   ]
  },
  {
   "cell_type": "code",
   "execution_count": 196,
   "id": "4244a53c",
   "metadata": {},
   "outputs": [
    {
     "data": {
      "text/plain": [
       "[(1, 2), (2, 3), (5, 6)]"
      ]
     },
     "execution_count": 196,
     "metadata": {},
     "output_type": "execute_result"
    }
   ],
   "source": [
    "[ (a,b) for i, [a,b] in enumerate(arr) if not any ((d==b and a==c) for c, d in arr[ : i])]"
   ]
  },
  {
   "cell_type": "code",
   "execution_count": null,
   "id": "523cfa09",
   "metadata": {},
   "outputs": [],
   "source": []
  },
  {
   "cell_type": "code",
   "execution_count": null,
   "id": "1711f8df",
   "metadata": {},
   "outputs": [],
   "source": [
    "# Q4"
   ]
  },
  {
   "cell_type": "code",
   "execution_count": 197,
   "id": "92d99c96",
   "metadata": {},
   "outputs": [],
   "source": [
    "sampleDict = { \"class\":{ \"student\":{ \"name\":\"Mike\", \"marks\":{ \"physics\":70, \"history\":80 } } } }"
   ]
  },
  {
   "cell_type": "code",
   "execution_count": 205,
   "id": "4fcf81f2",
   "metadata": {},
   "outputs": [
    {
     "data": {
      "text/plain": [
       "80"
      ]
     },
     "execution_count": 205,
     "metadata": {},
     "output_type": "execute_result"
    }
   ],
   "source": [
    "sampleDict['class']['student']['marks']['history']"
   ]
  },
  {
   "cell_type": "code",
   "execution_count": null,
   "id": "0fa63919",
   "metadata": {},
   "outputs": [],
   "source": []
  },
  {
   "cell_type": "code",
   "execution_count": null,
   "id": "15657a7b",
   "metadata": {},
   "outputs": [],
   "source": [
    "# Q5"
   ]
  },
  {
   "cell_type": "code",
   "execution_count": 206,
   "id": "8d62ec9b",
   "metadata": {},
   "outputs": [],
   "source": [
    "ids = ['M2004Sam', 'F2001Riya', 'M1998Ani', 'F2005Diya']"
   ]
  },
  {
   "cell_type": "code",
   "execution_count": 207,
   "id": "7d60d550",
   "metadata": {},
   "outputs": [
    {
     "data": {
      "text/plain": [
       "[18, 21, 24, 17]"
      ]
     },
     "execution_count": 207,
     "metadata": {},
     "output_type": "execute_result"
    }
   ],
   "source": [
    "[2022 - int(string[1:5]) for string in ids]"
   ]
  },
  {
   "cell_type": "code",
   "execution_count": 211,
   "id": "a86969b1",
   "metadata": {},
   "outputs": [],
   "source": [
    "for i in ids:[2022 - int(i[1:5])]"
   ]
  },
  {
   "cell_type": "code",
   "execution_count": null,
   "id": "f5f73239",
   "metadata": {},
   "outputs": [],
   "source": []
  },
  {
   "cell_type": "code",
   "execution_count": null,
   "id": "499d1ba8",
   "metadata": {},
   "outputs": [],
   "source": [
    "# Q6"
   ]
  },
  {
   "cell_type": "code",
   "execution_count": 212,
   "id": "b031034a",
   "metadata": {},
   "outputs": [
    {
     "data": {
      "text/plain": [
       "'charm3'"
      ]
     },
     "execution_count": 212,
     "metadata": {},
     "output_type": "execute_result"
    }
   ],
   "source": [
    "str1 = \"PYcharm3\"\n",
    "str1[-6:]"
   ]
  },
  {
   "cell_type": "code",
   "execution_count": 213,
   "id": "4667b81a",
   "metadata": {},
   "outputs": [
    {
     "data": {
      "text/plain": [
       "'PYcharm'"
      ]
     },
     "execution_count": 213,
     "metadata": {},
     "output_type": "execute_result"
    }
   ],
   "source": [
    "str1[0:-1]"
   ]
  },
  {
   "cell_type": "code",
   "execution_count": 214,
   "id": "d157baa4",
   "metadata": {},
   "outputs": [
    {
     "data": {
      "text/plain": [
       "'PYcharm'"
      ]
     },
     "execution_count": 214,
     "metadata": {},
     "output_type": "execute_result"
    }
   ],
   "source": [
    "str1[:-1]"
   ]
  },
  {
   "cell_type": "code",
   "execution_count": null,
   "id": "a0fcf07e",
   "metadata": {},
   "outputs": [],
   "source": []
  },
  {
   "cell_type": "code",
   "execution_count": null,
   "id": "59850cfb",
   "metadata": {},
   "outputs": [],
   "source": [
    "# Q7"
   ]
  },
  {
   "cell_type": "code",
   "execution_count": 220,
   "id": "f74d84f0",
   "metadata": {},
   "outputs": [
    {
     "data": {
      "text/plain": [
       "('f', 'o', 'u', 'r', 'r')"
      ]
     },
     "execution_count": 220,
     "metadata": {},
     "output_type": "execute_result"
    }
   ],
   "source": [
    "tuple('fourr')"
   ]
  },
  {
   "cell_type": "code",
   "execution_count": 217,
   "id": "cc9faaa0",
   "metadata": {},
   "outputs": [
    {
     "data": {
      "text/plain": [
       "4"
      ]
     },
     "execution_count": 217,
     "metadata": {},
     "output_type": "execute_result"
    }
   ],
   "source": [
    "len(tuple('four'))"
   ]
  },
  {
   "cell_type": "code",
   "execution_count": 216,
   "id": "40ff1106",
   "metadata": {},
   "outputs": [
    {
     "data": {
      "text/plain": [
       "{'f', 'o', 'r', 'u'}"
      ]
     },
     "execution_count": 216,
     "metadata": {},
     "output_type": "execute_result"
    }
   ],
   "source": [
    "set('four')"
   ]
  },
  {
   "cell_type": "code",
   "execution_count": 219,
   "id": "4ad9eb46",
   "metadata": {},
   "outputs": [
    {
     "data": {
      "text/plain": [
       "False"
      ]
     },
     "execution_count": 219,
     "metadata": {},
     "output_type": "execute_result"
    }
   ],
   "source": [
    "len(tuple('foour')) == len('four')"
   ]
  },
  {
   "cell_type": "code",
   "execution_count": null,
   "id": "bd8ae54b",
   "metadata": {},
   "outputs": [],
   "source": []
  },
  {
   "cell_type": "code",
   "execution_count": null,
   "id": "2a7d8c24",
   "metadata": {},
   "outputs": [],
   "source": [
    "# Q2"
   ]
  },
  {
   "cell_type": "code",
   "execution_count": 221,
   "id": "1d0296da",
   "metadata": {},
   "outputs": [],
   "source": [
    "names = ['sourabh','shubham','guzel']\n",
    "runs = [25,50,10]\n",
    "wickets = [3,5,4]\n",
    "bowls = [7,12,3]"
   ]
  },
  {
   "cell_type": "code",
   "execution_count": 227,
   "id": "f4fcad8e",
   "metadata": {},
   "outputs": [
    {
     "name": "stdout",
     "output_type": "stream",
     "text": [
      "{'sourabh': [25, 3, 7], 'shubham': [50, 5, 12], 'guzel': [10, 4, 3]}\n",
      "shubham\n"
     ]
    }
   ],
   "source": [
    "dictt = {}\n",
    "manOfMatch = ''\n",
    "for i in range(0,len(names)):\n",
    "    dictt.update({names[i]:[runs[i],wickets[i],bowls[i]]})\n",
    "    if (runs[i]/bowls[i]>4 and wickets[i]>2) or ((runs[i]/bowls[i]>2 and runs[i]/bowls[i]<4) and wickets[i]>4):\n",
    "        manOfMatch=names[i]\n",
    "print(dictt)  \n",
    "print(manOfMatch)"
   ]
  },
  {
   "cell_type": "code",
   "execution_count": null,
   "id": "dd87dea1",
   "metadata": {},
   "outputs": [],
   "source": []
  },
  {
   "cell_type": "code",
   "execution_count": 233,
   "id": "d6ff41ac",
   "metadata": {},
   "outputs": [
    {
     "name": "stdout",
     "output_type": "stream",
     "text": [
      "sourabh\n",
      "25\n",
      "3\n",
      "7\n",
      "\n",
      "sourabh 25 3 7\n",
      "3.5714285714285716\n",
      "\n",
      "shubham\n",
      "50\n",
      "5\n",
      "12\n",
      "\n",
      "shubham 50 5 12\n",
      "4.166666666666667\n",
      "\n",
      "guzel\n",
      "10\n",
      "4\n",
      "3\n",
      "\n",
      "guzel 10 4 3\n",
      "3.3333333333333335\n",
      "\n",
      "shubham\n",
      "{'sourabh': [25, 3, 7], 'shubham': [50, 5, 12], 'guzel': [10, 4, 3]}\n"
     ]
    }
   ],
   "source": [
    "data = {}\n",
    "manOfMatch = \"\"\n",
    "# Your code starts here\n",
    "for a, b, c, d in zip(names, runs, wickets, bowls):\n",
    "    print(a)\n",
    "    print(b)\n",
    "    print(c)\n",
    "    print(d)\n",
    "    print()\n",
    "    print(a,b,c,d)\n",
    "    data.update({a: [b, c, d]})\n",
    "    strike_rate = b/d\n",
    "    print(strike_rate)\n",
    "    print()\n",
    "\n",
    "    if strike_rate > 4 and c > 2 or 2 < strike_rate < 4 < c:\n",
    "        manOfMatch = a\n",
    "print(manOfMatch)     \n",
    "print(data)"
   ]
  },
  {
   "cell_type": "code",
   "execution_count": null,
   "id": "33a8e75c",
   "metadata": {},
   "outputs": [],
   "source": []
  },
  {
   "cell_type": "code",
   "execution_count": 236,
   "id": "8fde49f6",
   "metadata": {},
   "outputs": [
    {
     "name": "stdout",
     "output_type": "stream",
     "text": [
      "9 w\n",
      "8 e\n"
     ]
    }
   ],
   "source": [
    "a=[9,8]\n",
    "b=['w','e']\n",
    "for i,j in zip(a,b):\n",
    "    print(i,j)"
   ]
  },
  {
   "cell_type": "code",
   "execution_count": null,
   "id": "c9f50e91",
   "metadata": {},
   "outputs": [],
   "source": []
  },
  {
   "cell_type": "code",
   "execution_count": null,
   "id": "f07555ec",
   "metadata": {},
   "outputs": [],
   "source": [
    "# Q3"
   ]
  },
  {
   "cell_type": "code",
   "execution_count": 238,
   "id": "c9859953",
   "metadata": {},
   "outputs": [
    {
     "data": {
      "text/plain": [
       "12"
      ]
     },
     "execution_count": 238,
     "metadata": {},
     "output_type": "execute_result"
    }
   ],
   "source": [
    "import math\n",
    "math.floor(12.5)"
   ]
  },
  {
   "cell_type": "code",
   "execution_count": 241,
   "id": "19d8a1a1",
   "metadata": {},
   "outputs": [],
   "source": [
    "s = \"_,_,30,_,_,_,50,_,_\""
   ]
  },
  {
   "cell_type": "code",
   "execution_count": 243,
   "id": "a3859065",
   "metadata": {},
   "outputs": [
    {
     "data": {
      "text/plain": [
       "['_', '_', '30', '_', '_', '_', '50', '_', '_']"
      ]
     },
     "execution_count": 243,
     "metadata": {},
     "output_type": "execute_result"
    }
   ],
   "source": [
    "ss = s.split(',')\n",
    "ss"
   ]
  },
  {
   "cell_type": "code",
   "execution_count": null,
   "id": "bda5c466",
   "metadata": {},
   "outputs": [],
   "source": [
    "count_blank = 0\n",
    "for i in ss:\n",
    "    if i == '_':\n",
    "        count_blank += 1"
   ]
  },
  {
   "cell_type": "code",
   "execution_count": null,
   "id": "e4b37997",
   "metadata": {},
   "outputs": [],
   "source": []
  },
  {
   "cell_type": "code",
   "execution_count": null,
   "id": "3b3f6302",
   "metadata": {},
   "outputs": [],
   "source": []
  },
  {
   "cell_type": "code",
   "execution_count": 245,
   "id": "30bca6bf",
   "metadata": {},
   "outputs": [],
   "source": [
    "a = [5,3,1,2]"
   ]
  },
  {
   "cell_type": "code",
   "execution_count": null,
   "id": "46fca30c",
   "metadata": {},
   "outputs": [],
   "source": [
    "result = []\n",
    "for i in range(len(a)):\n",
    "    for \n",
    "    if a[]"
   ]
  },
  {
   "cell_type": "code",
   "execution_count": 246,
   "id": "14af0eae",
   "metadata": {},
   "outputs": [
    {
     "data": {
      "text/plain": [
       "0"
      ]
     },
     "execution_count": 246,
     "metadata": {},
     "output_type": "execute_result"
    }
   ],
   "source": []
  },
  {
   "cell_type": "code",
   "execution_count": null,
   "id": "a02aed5b",
   "metadata": {},
   "outputs": [],
   "source": []
  },
  {
   "cell_type": "code",
   "execution_count": null,
   "id": "c89803c1",
   "metadata": {},
   "outputs": [],
   "source": []
  }
 ],
 "metadata": {
  "kernelspec": {
   "display_name": "Python 3 (ipykernel)",
   "language": "python",
   "name": "python3"
  },
  "language_info": {
   "codemirror_mode": {
    "name": "ipython",
    "version": 3
   },
   "file_extension": ".py",
   "mimetype": "text/x-python",
   "name": "python",
   "nbconvert_exporter": "python",
   "pygments_lexer": "ipython3",
   "version": "3.9.12"
  }
 },
 "nbformat": 4,
 "nbformat_minor": 5
}
